{
 "cells": [
  {
   "cell_type": "markdown",
   "metadata": {},
   "source": [
    "# Project 2: Supervised Learning\n",
    "### Building a Student Intervention System"
   ]
  },
  {
   "cell_type": "markdown",
   "metadata": {},
   "source": [
    "## 1. Classification vs Regression\n",
    "  \n",
    "_**There are two types of supervised machine learning problems, determoned by the tupe of response variable(s): 1) regression ML problems have numerical (continuous or near continuous) response variables; and 2) classification ML problems have categorical response variables. The student intervention data set calls for a classification solution as the response variable is categorical - labeled \"passed\" and taking one of two values: \"yes\" or \"no\", i.e., a binary categorical response variable.**_"
   ]
  },
  {
   "cell_type": "markdown",
   "metadata": {},
   "source": [
    "## 2. Exploring the Data"
   ]
  },
  {
   "cell_type": "code",
   "execution_count": 3,
   "metadata": {
    "collapsed": false
   },
   "outputs": [],
   "source": [
    "import numpy as np\n",
    "import pandas as pd\n",
    "from pandas import Series, DataFrame"
   ]
  },
  {
   "cell_type": "code",
   "execution_count": 4,
   "metadata": {
    "collapsed": false,
    "scrolled": true
   },
   "outputs": [
    {
     "name": "stdout",
     "output_type": "stream",
     "text": [
      "Student data read successfully!\n"
     ]
    }
   ],
   "source": [
    "# Read student data\n",
    "np.random.seed(1994)\n",
    "student_data = pd.read_csv(\".\\data\\student-data.csv\")\n",
    "print \"Student data read successfully!\""
   ]
  },
  {
   "cell_type": "markdown",
   "metadata": {},
   "source": [
    "### Find out the following facts about the dataset.\n",
    "- Total number of students\n",
    "- Number of students who passed\n",
    "- Number of students who failed\n",
    "- Graduation rate of the class (%)\n",
    "- Number of features"
   ]
  },
  {
   "cell_type": "code",
   "execution_count": 5,
   "metadata": {
    "collapsed": false
   },
   "outputs": [
    {
     "name": "stdout",
     "output_type": "stream",
     "text": [
      "Total number of students: 395\n",
      "Number of students who passed: 265\n",
      "Number of students who failed: 130\n",
      "Number of features: 30\n",
      "Graduation rate of the class: 0.67%\n"
     ]
    }
   ],
   "source": [
    "n_students = student_data.shape[0]\n",
    "n_features = student_data.shape[1] - 1\n",
    "n_passed = student_data[student_data['passed'] == \"yes\"].shape[0]\n",
    "n_failed = student_data[student_data['passed'] == \"no\"].shape[0]\n",
    "grad_rate = float(n_passed) / n_students\n",
    "print \"Total number of students: {}\".format(n_students)\n",
    "print \"Number of students who passed: {}\".format(n_passed)\n",
    "print \"Number of students who failed: {}\".format(n_failed)\n",
    "print \"Number of features: {}\".format(n_features)\n",
    "print \"Graduation rate of the class: {:.2f}%\".format(grad_rate)"
   ]
  },
  {
   "cell_type": "markdown",
   "metadata": {},
   "source": [
    "## 3. Preparing the Data\n",
    "\n",
    "### Separate response (target) and explanatory (feature) variables. "
   ]
  },
  {
   "cell_type": "code",
   "execution_count": 6,
   "metadata": {
    "collapsed": false
   },
   "outputs": [
    {
     "name": "stdout",
     "output_type": "stream",
     "text": [
      "\n",
      "Feature values:-\n",
      "  school sex  age address famsize Pstatus  Medu  Fedu     Mjob      Fjob  \\\n",
      "0     GP   F   18       U     GT3       A     4     4  at_home   teacher   \n",
      "1     GP   F   17       U     GT3       T     1     1  at_home     other   \n",
      "2     GP   F   15       U     LE3       T     1     1  at_home     other   \n",
      "3     GP   F   15       U     GT3       T     4     2   health  services   \n",
      "4     GP   F   16       U     GT3       T     3     3    other     other   \n",
      "\n",
      "    ...    higher internet  romantic  famrel  freetime goout Dalc Walc health  \\\n",
      "0   ...       yes       no        no       4         3     4    1    1      3   \n",
      "1   ...       yes      yes        no       5         3     3    1    1      3   \n",
      "2   ...       yes      yes        no       4         3     2    2    3      3   \n",
      "3   ...       yes      yes       yes       3         2     2    1    1      5   \n",
      "4   ...       yes       no        no       4         3     2    1    2      5   \n",
      "\n",
      "  absences  \n",
      "0        6  \n",
      "1        4  \n",
      "2       10  \n",
      "3        2  \n",
      "4        4  \n",
      "\n",
      "[5 rows x 30 columns]\n"
     ]
    }
   ],
   "source": [
    "# Extract feature (X) and target (y) columns\n",
    "feature_cols = list(student_data.columns[:-1])  # all columns but last are features\n",
    "target_col = student_data.columns[-1]  # last column is the target/label\n",
    "# print \"Feature column(s):-\\n{}\".format(feature_cols)\n",
    "# print \"Target column: {}\".format(target_col)\n",
    "X_all = student_data[feature_cols]  # feature values for all students\n",
    "y_all = student_data[target_col]  # corresponding targets/labels\n",
    "print \"\\nFeature values:-\"\n",
    "print X_all.head()  # print the first 5 rows"
   ]
  },
  {
   "cell_type": "markdown",
   "metadata": {},
   "source": [
    "### Preprocess feature columns\n",
    "\n",
    "#### Create Dummy Variables, Scale Data, Create Validation Test Set"
   ]
  },
  {
   "cell_type": "code",
   "execution_count": 7,
   "metadata": {
    "collapsed": false
   },
   "outputs": [],
   "source": [
    "def preprocess_features(X):\n",
    "    outX = pd.DataFrame(index=X.index)  # output dataframe, initially empty\n",
    "    # Check each column\n",
    "    for col, col_data in X.iteritems():\n",
    "        # If data type is non-numeric, try to replace all yes/no values with 1/0\n",
    "        if col_data.dtype == object:\n",
    "            col_data = col_data.replace(['yes', 'no'], [1, 0])\n",
    "        # Note: This should change the data type for yes/no columns to int\n",
    "\n",
    "        # If still non-numeric, convert to one or more dummy variables\n",
    "        if col_data.dtype == object:\n",
    "            col_data = pd.get_dummies(col_data, prefix=col)  # e.g. 'school' => 'school_GP', 'school_MS'\n",
    "        outX = outX.join(col_data)  # collect column(s) in output dataframe\n",
    "    return outX\n",
    "\n",
    "# Create new feature set with dummy variables replacing categorical variables\n",
    "X_all = preprocess_features(X_all)\n",
    "\n",
    "# Scale the data\n",
    "from sklearn import preprocessing\n",
    "X_all = preprocessing.scale(X_all)\n",
    "\n",
    "# Create validation test set (60 obs ~ 15%), used for final assessment of chosen model\n",
    "# i.e. X_val, y_val --  60 obs, 15%\n",
    "from sklearn.cross_validation import train_test_split \n",
    "X_allv, X_val, y_allv, y_val = train_test_split(X_all, y_all, test_size=0.15, random_state=294967295)\n",
    "X_all = X_allv\n",
    "y_all = y_allv"
   ]
  },
  {
   "cell_type": "markdown",
   "metadata": {},
   "source": [
    "### Split data into training and test sets\n",
    "\n",
    "So far, we have converted all _categorical_ features into numeric values. In this next step, we split the data (both features and corresponding labels) into training and test sets."
   ]
  },
  {
   "cell_type": "code",
   "execution_count": 8,
   "metadata": {
    "collapsed": false
   },
   "outputs": [],
   "source": [
    "# Training/Test Set split function.  the following variables are returned:\n",
    "# The constant test set is computed by the find_optF1s() function defined in a cell below\n",
    "def data_split(X_, y_, seed, FirstTrainSeed):\n",
    "    X_train, X_test, y_train, y_test = train_test_split(X_, y_, test_size=0.10, random_state=FirstTrainSeed)\n",
    "    X100_train, z1, y100_train, z3 = train_test_split(X_train, y_train, test_size=0.66, random_state=seed)\n",
    "    X200_train, z1, y200_train, z3 = train_test_split(X_train, y_train, test_size=0.32, random_state=seed)\n",
    "    X300_train = X_train\n",
    "    y300_train = y_train\n",
    "    return X_test, y_test, X300_train, y300_train, X200_train, y200_train, X100_train, y100_train\n",
    "X_test, y_test, X300_train, y300_train, X200_train, y200_train, X100_train, y100_train = data_split(X_all, y_all, 666, 555)"
   ]
  },
  {
   "cell_type": "markdown",
   "metadata": {},
   "source": [
    "## 4. Training and Evaluating Models\n",
    "\n",
    "_**Naive Bayes, Support Vector Machine, and Gradient Tree Boosting were chosen as candidates models for student intervention.**_\n",
    "\n",
    "### Naive Bayes (NB)\n",
    "\n",
    "_**NB classifiers have worked quite well in many real-world situations, famously document classification and spam filtering. Strengths of NB: requires a small amount of training data to estimate necessary parameters, and NB learners and classifiers can be extremely fast compared to more sophisticated methods. The major weakness of Naive Bayes classification is it is known to be a bad estimator. I chose NB for its track record in real-world applications, such as student intervention, and its speed.**_\n",
    "\n",
    "### Gradient Tree Boosting (GBT)\n",
    "\n",
    "_**Gradient Tree Boosting or Gradient Boosted Regression Trees (GBRT) is a generalization of boosting to arbitrary differentiable loss functions. GBRT is an accurate and effective off-the-shelf procedure that can be used for both regression and classification problems. Gradient Tree Boosting models are used in a variety of areas including Web search ranking and ecology. Strengths of GTB are natural handling of heterogeneous (mixed type) features, good predictive power, and robustness to outliers. Weaknesses of GTB are scalability, which due to the sequential nature of boosting can not be parallelized, and generally slower execution time than other classification methods, possibly very slow depending on the data. I choose GBT for its predictive power, and its handling of heterogenous features.**_\n",
    "\n",
    "### Support Vector Machine (SVM)\n",
    "\n",
    "_** SVMs are a set of supervised learning methods used for classification, regression and outlier detection. Strengths of SVMs:  effective in high dimensional spaces, and in cases where the number of dimensions is greater than the number of samples. SVMs use a subset of training points in the decision function (called support vectors), so it is also memory efficient. SVM is versatile - different Kernel functions can be specified for the decision function. Common kernels are provided, but it is also possible to specify custom kernels. SVM's can Work well with both dense and sparse data. Weaknesses of SVMs: If the number of features is much greater than the number of samples, the method is likely to yield poor performance. SVMs do not directly provide  probability estimates, these are calculated using an expensive five-fold cross-validation. SVM's can be extremely fast or extremely slow, depending on the data and chosen parameters. I chose SVM for its versatility, effectiveness in high dimensional space, as the student intervention data has 48 features (after preprocessing).**_\n",
    "\n",
    "Fit these models to the training data, try to predict labels (for both training and test sets), and measure the F<sub>1</sub> score. Repeat this process with different training set sizes (100, 200, 300), keeping test set constant. Produce a table showing training time, prediction time, F<sub>1</sub> score on training set and F<sub>1</sub> score on test set, for each training set size."
   ]
  },
  {
   "cell_type": "code",
   "execution_count": 9,
   "metadata": {
    "collapsed": true
   },
   "outputs": [],
   "source": [
    "# table class with html output\n",
    "class ListTable(list):\n",
    "    \"\"\" Overridden list class which takes a 2-dimensional list of the \n",
    "    form [[1,2,3],[4,5,6]], and renders an HTML Table in IPython Notebook. \"\"\"\n",
    "    def _repr_html_(self):\n",
    "        html = [\"<table>\"]\n",
    "        for row in self:\n",
    "            html.append(\"<tr>\")\n",
    "            for col in row:\n",
    "                html.append(\"<td>{0}</td>\".format(col))\n",
    "            html.append(\"</tr>\")\n",
    "        html.append(\"</table>\")\n",
    "        return ''.join(html)"
   ]
  },
  {
   "cell_type": "code",
   "execution_count": 10,
   "metadata": {
    "collapsed": true
   },
   "outputs": [],
   "source": [
    "def train_predict(clf, X_train, y_train, X_test, y_test): \n",
    "    from sklearn.metrics import f1_score\n",
    "    import time\n",
    "    start = time.time()\n",
    "    clf.fit(X_train, y_train)\n",
    "    end = time.time()\n",
    "    train_time = end - start\n",
    "    y_pred = clf.predict(X_train)\n",
    "    train_F1 = f1_score(y_train.values, y_pred, pos_label='yes')\n",
    "    start = time.time()\n",
    "    y_pred = clf.predict(X_test)\n",
    "    end = time.time()\n",
    "    predict_time = end - start\n",
    "    test_F1 = f1_score(y_test.values, y_pred, pos_label='yes')\n",
    "    return len(y_train),train_time, predict_time, train_F1, test_F1"
   ]
  },
  {
   "cell_type": "code",
   "execution_count": 11,
   "metadata": {
    "collapsed": false
   },
   "outputs": [],
   "source": [
    "# Function to create table of results of classification\n",
    "#   runs specified model n times, with unique train/test splits, averaging results into single table entry\n",
    "#   1st test/train split based on seed s, constant test set used for each run of a given model\n",
    "#   subsequent training sets w/ new seed for each run\n",
    "def create_tbl(clf_, n = 5, s = 555):\n",
    "    a100 = np.zeros(shape=(n, 5))\n",
    "    a200 = np.zeros(shape=(n, 5))\n",
    "    a300 = np.zeros(shape=(n, 5))\n",
    "    for i in range(0, n):\n",
    "        X_test, y_test, X300_train, y300_train, X200_train, y200_train, X100_train, y100_train = data_split(X_all, y_all, 666, s)\n",
    "        a100[i] =  train_predict(clf_, X100_train, y100_train, X_test, y_test)\n",
    "        a200[i] =  train_predict(clf_, X200_train, y200_train, X_test, y_test)\n",
    "        a300[i] =  train_predict(clf_, X300_train, y300_train, X_test, y_test)\n",
    "    tbl = ListTable()\n",
    "    tbl.append(['Train Set Size', 'Training Time', 'Prediction Time', 'Training F1', 'Prediction F1'])   \n",
    "    tbl.append(a100.mean(axis=0))\n",
    "    tbl.append(a200.mean(axis=0))\n",
    "    tbl.append(a300.mean(axis=0))\n",
    "    return tbl"
   ]
  },
  {
   "cell_type": "markdown",
   "metadata": {},
   "source": [
    "### Pre-analysis for Optimal Constant Test Set \n",
    "_**The following cell is pre-analysis - it need not be run for project submission evaluation. Function findOptF1s() determines the optimal constant test set for best predictive F1 of the specified classification model.  It is used interactively to find the constant test set w/ highest predictive F1 for each training set size & model type. The purpose of optimal constant test set is to show the best that a model can be, rather than guessing with a random constant test set. One might criticize this approach as data mining, and that is true, but it is purposeful data mining for comparing models, and better than using randomly selected constant test sets.**_"
   ]
  },
  {
   "cell_type": "code",
   "execution_count": 12,
   "metadata": {
    "collapsed": false
   },
   "outputs": [],
   "source": [
    "# THIS CELL FOR PRE-ANALYSIS ONLY(see description above) - IT NEED NOT BE RUN TO EVALUATE THIS PROJECT SUBMISSION.\n",
    "\n",
    "def find_optF1s(clf_, maxSeed):\n",
    "    F1_100 = np.zeros(shape=(maxSeed))\n",
    "    F1_200 = np.zeros(shape=(maxSeed))\n",
    "    F1_300 = np.zeros(shape=(maxSeed))\n",
    "    for seed_ in range(0, maxSeed):\n",
    "        X_test, y_test, X300_train, y300_train, X200_train, y200_train, X100_train, y100_train = data_split(X_all, y_all, 1313, seed_)\n",
    "        F1_100[seed_] = (train_predict(clf_, X100_train, y100_train, X_test, y_test))[4]\n",
    "        F1_200[seed_] = (train_predict(clf_, X200_train, y200_train, X_test, y_test))[4]\n",
    "        F1_300[seed_] = (train_predict(clf_, X300_train, y300_train, X_test, y_test))[4]\n",
    "    seedMaxF1_100 = np.argmax(F1_100)\n",
    "    seedMaxF1_200 = np.argmax(F1_200)\n",
    "    seedMaxF1_300 = np.argmax(F1_300)\n",
    "    return seedMaxF1_100, seedMaxF1_200, seedMaxF1_300\n",
    "\n",
    "from sklearn.naive_bayes import GaussianNB\n",
    "from sklearn.ensemble import GradientBoostingClassifier\n",
    "from sklearn import svm   \n",
    "from sklearn.metrics import f1_score\n",
    "\n",
    "# A poor man's optimizer but its good enough\n",
    "# nb_seeds = find_optF1s(GaussianNB(), 10000)                   # 10000: (9731, 7673, 8853)\n",
    "# gbt_seeds = find_optF1s(GradientBoostingClassifier(), 2000)   # 2000: (972, 1593, 109)\n",
    "# svm_seeds = find_optF1s(svm.SVC(kernel='rbf'), 10000)         # 10000: (258, 4615, 4615)\n",
    "\n",
    "# interactive results of find_optF1s(): \n",
    "# seed(training set size) yielding max predictive F1 for GaussianNB()                   9731(100), 7673(200), 8853(300)\n",
    "# seeds(training set size) yielding max predictive F1 for GradientBoostingClassifier()  972(100),  1593(200), 109(300)\n",
    "# seeds(training set size) yielding max predictive F1 for svm.SVC(kernel='rbf   ')      258(100),  4615(200), 4615(300)"
   ]
  },
  {
   "cell_type": "code",
   "execution_count": 13,
   "metadata": {
    "collapsed": false,
    "scrolled": true
   },
   "outputs": [
    {
     "data": {
      "text/html": [
       "<table><tr><td>Train Set Size</td><td>Training Time</td><td>Prediction Time</td><td>Training F1</td><td>Prediction F1</td></tr><tr><td>102.0</td><td>0.000999927520752</td><td>0.0</td><td>0.347826086957</td><td>0.125</td></tr><tr><td>204.0</td><td>0.0</td><td>0.0</td><td>0.269938650307</td><td>0.0645161290323</td></tr><tr><td>301.0</td><td>0.0</td><td>0.0</td><td>0.785365853659</td><td>0.945454545455</td></tr></table>"
      ],
      "text/plain": [
       "[['Train Set Size',\n",
       "  'Training Time',\n",
       "  'Prediction Time',\n",
       "  'Training F1',\n",
       "  'Prediction F1'],\n",
       " array([  1.02000000e+02,   9.99927521e-04,   0.00000000e+00,\n",
       "          3.47826087e-01,   1.25000000e-01]),\n",
       " array([  2.04000000e+02,   0.00000000e+00,   0.00000000e+00,\n",
       "          2.69938650e-01,   6.45161290e-02]),\n",
       " array([ 301.        ,    0.        ,    0.        ,    0.78536585,\n",
       "           0.94545455])]"
      ]
     },
     "execution_count": 13,
     "metadata": {},
     "output_type": "execute_result"
    }
   ],
   "source": [
    "from sklearn.naive_bayes import GaussianNB\n",
    "create_tbl(GaussianNB(), n = 1, s = 8853)   # same result when n=500, optimal s for max Predict F1"
   ]
  },
  {
   "cell_type": "code",
   "execution_count": 14,
   "metadata": {
    "collapsed": false
   },
   "outputs": [
    {
     "data": {
      "text/html": [
       "<table><tr><td>Train Set Size</td><td>Training Time</td><td>Prediction Time</td><td>Training F1</td><td>Prediction F1</td></tr><tr><td>102.0</td><td>0.055999994278</td><td>0.0</td><td>1.0</td><td>0.896551724138</td></tr><tr><td>204.0</td><td>0.0569999217987</td><td>0.0</td><td>0.989090909091</td><td>0.877192982456</td></tr><tr><td>301.0</td><td>0.0780000686646</td><td>0.0</td><td>0.979899497487</td><td>0.949152542373</td></tr></table>"
      ],
      "text/plain": [
       "[['Train Set Size',\n",
       "  'Training Time',\n",
       "  'Prediction Time',\n",
       "  'Training F1',\n",
       "  'Prediction F1'],\n",
       " array([  1.02000000e+02,   5.59999943e-02,   0.00000000e+00,\n",
       "          1.00000000e+00,   8.96551724e-01]),\n",
       " array([  2.04000000e+02,   5.69999218e-02,   0.00000000e+00,\n",
       "          9.89090909e-01,   8.77192982e-01]),\n",
       " array([  3.01000000e+02,   7.80000687e-02,   0.00000000e+00,\n",
       "          9.79899497e-01,   9.49152542e-01])]"
      ]
     },
     "execution_count": 14,
     "metadata": {},
     "output_type": "execute_result"
    }
   ],
   "source": [
    "from sklearn.ensemble import GradientBoostingClassifier\n",
    "create_tbl(GradientBoostingClassifier(), n = 1, s=109)   # same result when n=100, optimal s for max Predict F1"
   ]
  },
  {
   "cell_type": "code",
   "execution_count": 15,
   "metadata": {
    "collapsed": false
   },
   "outputs": [
    {
     "data": {
      "text/html": [
       "<table><tr><td>Train Set Size</td><td>Training Time</td><td>Prediction Time</td><td>Training F1</td><td>Prediction F1</td></tr><tr><td>102.0</td><td>0.0</td><td>0.0</td><td>0.898734177215</td><td>0.969696969697</td></tr><tr><td>204.0</td><td>0.0</td><td>0.0</td><td>0.914089347079</td><td>0.969696969697</td></tr><tr><td>301.0</td><td>0.00600004196167</td><td>0.0</td><td>0.900232018561</td><td>0.969696969697</td></tr></table>"
      ],
      "text/plain": [
       "[['Train Set Size',\n",
       "  'Training Time',\n",
       "  'Prediction Time',\n",
       "  'Training F1',\n",
       "  'Prediction F1'],\n",
       " array([ 102.        ,    0.        ,    0.        ,    0.89873418,\n",
       "           0.96969697]),\n",
       " array([ 204.        ,    0.        ,    0.        ,    0.91408935,\n",
       "           0.96969697]),\n",
       " array([  3.01000000e+02,   6.00004196e-03,   0.00000000e+00,\n",
       "          9.00232019e-01,   9.69696970e-01])]"
      ]
     },
     "execution_count": 15,
     "metadata": {},
     "output_type": "execute_result"
    }
   ],
   "source": [
    "from sklearn import svm   \n",
    "create_tbl(svm.SVC(kernel='rbf'), n = 1, s=4615)  # same result when n=500,  optimal s for max Predict F1"
   ]
  },
  {
   "cell_type": "markdown",
   "metadata": {},
   "source": [
    "## 5. Choosing the Best Model"
   ]
  },
  {
   "cell_type": "markdown",
   "metadata": {},
   "source": [
    "### Model Selection\n",
    "\n",
    "_**The Naive Bayes model is inconsistant with this data set - modeling results vary significantly with training set size. The problem with Gradient Tree Boosting is time inefficiency, and while not as extreme as Naive Bayes, results vary with training set size. The SVM(rbf) model does not vary with training set size and is efficient in time and space.  The optimal constant test was found for each model, and SVM had the highest and consistant prediction F1 scores for each training set size. We therefore recommend SVM(rbf) to model student intervention data.**_"
   ]
  },
  {
   "cell_type": "markdown",
   "metadata": {},
   "source": [
    "### Model Recommendation to Board of Supervisors\n",
    "\n",
    "_**Based on analysis of available data, limited resources, cost and performance, support vector machine (SVM) classification is the most appropriate model for predicting student intervention candidates. SVM consistantly performs at a high level (i.e., prediction results & speed of execution) across varying amounts of student data. SVM's speed of execution and small memory footprint minimize processing cost, conforming to budget constraints. Through the use of scoring metrics, SVM will allow the board of supervisors to match the most needy intervention candidates based on available intervention resources and intervention strategy.**_"
   ]
  },
  {
   "cell_type": "markdown",
   "metadata": {},
   "source": [
    "### Model Explanation to Board of Supervisors\n",
    "\n",
    "_**Support Vector Machine (SVM) classification works by defining classification (i.e., passed = yes or no) boundries amoung the predictive features of student intervention data. SVM considers all feasible boundaries and chooses the boundary with the largest \"margin\", i.e., distance between the boundary and the closest student data point. The SVM implementing this boundary is known as the maximum margin classifier and provides the best predictive capabilities among SVMs with alternate boundaries. SVM  recommends students for intervention by looking where the student's features lie relative to the boundary - the side of the boundary that student features lie upon determines the predicted classification (passed = yes or no) for that student.  Students predicted as passed = no are recommended for intervention.  The model can be adjusted so that only the most needy students are recommended for intervention, matching the resources available for intervention.  I.e., if intervention resources are only available for x number of students, the SVM model can be configured to recommend the x students most in need of intervention.  Comversely, if the board of supervisors seeks to also intervene with low performing students predicted to pass, the SVM model can be adjusted to reconmend such students for intervention as well.**_"
   ]
  },
  {
   "cell_type": "markdown",
   "metadata": {},
   "source": [
    "### Model Tuning\n",
    "\n",
    "_**Fine-tune the recommended model using GridsearchCV**_"
   ]
  },
  {
   "cell_type": "code",
   "execution_count": 16,
   "metadata": {
    "collapsed": false
   },
   "outputs": [
    {
     "name": "stdout",
     "output_type": "stream",
     "text": [
      "grid.fit() elapsed time (seconds): 310.943000078\n",
      "The best parameters are {'kernel': 'rbf', 'C': 31622.776601683792, 'gamma': 9.9999999999999995e-08}, F1 score: 0.80\n"
     ]
    }
   ],
   "source": [
    "# This cell takes approximately 5 minutes (311 seconds) to run (octo-core processor, 16GB ram), \n",
    "# computing a 13x13 grid of F1 scores of SVM(rbf), each with 5 iterations of randomly selected, stratified test sets\n",
    "from sklearn.cross_validation import StratifiedShuffleSplit\n",
    "from sklearn.grid_search import GridSearchCV\n",
    "from sklearn import cross_validation\n",
    "from sklearn.metrics import make_scorer\n",
    "from sklearn.metrics import f1_score\n",
    "import time\n",
    "C_range = np.logspace(-2, 11, 13)       # BP5 heat map scale\n",
    "gamma_range = np.logspace(-12, 0, 13)   # BP5 heat map scale\n",
    "param_grid_rbf = [{'C': list(C_range), 'gamma': list(gamma_range), 'kernel': ['rbf']}]   \n",
    "F1_scorer = make_scorer(f1_score, pos_label='yes')\n",
    "cv = StratifiedShuffleSplit(y_all, n_iter=5, test_size=.16, random_state=42)\n",
    "start_time = time.time()\n",
    "np.random.seed(19591959)\n",
    "clf = svm.SVC() \n",
    "grid = GridSearchCV(clf, param_grid=param_grid_rbf, cv=cv,  scoring=F1_scorer)\n",
    "grid.fit(X_all, y_all)\n",
    "elapsed_time = time.time() - start_time\n",
    "print(\"grid.fit() elapsed time (seconds): %s\"  % (elapsed_time))\n",
    "print(\"The best parameters are %s, F1 score: %0.2f\"\n",
    "% (grid.best_params_, grid.best_score_))  "
   ]
  },
  {
   "cell_type": "markdown",
   "metadata": {},
   "source": [
    "### Visualize Tuned Model Performance"
   ]
  },
  {
   "cell_type": "code",
   "execution_count": 17,
   "metadata": {
    "collapsed": false
   },
   "outputs": [
    {
     "data": {
      "text/plain": [
       "<matplotlib.text.Text at 0xac4c6d8>"
      ]
     },
     "execution_count": 17,
     "metadata": {},
     "output_type": "execute_result"
    },
    {
     "data": {
      "image/png": "[encoded data removed]",
      "text/plain": [
       "<matplotlib.figure.Figure at 0xab30438>"
      ]
     },
     "metadata": {},
     "output_type": "display_data"
    }
   ],
   "source": [
    "# Heat map of the selected model's F1 grid scores\n",
    "%matplotlib inline\n",
    "import matplotlib.pyplot as plt\n",
    "from matplotlib.colors import Normalize\n",
    "# Utility class for heat map tuning\n",
    "class MidpointNormalize(Normalize):\n",
    "    def __init__(self, vmin=None, vmax=None, midpoint=None, clip=False):\n",
    "        self.midpoint = midpoint\n",
    "        Normalize.__init__(self, vmin, vmax, clip)\n",
    "    def __call__(self, value, clip=None):\n",
    "        x, y = [self.vmin, self.midpoint, self.vmax], [0, 0.4, 1]\n",
    "        return np.ma.masked_array(np.interp(value, x, y))\n",
    "scores = [x[1] for x in grid.grid_scores_]\n",
    "scores = np.array(scores).reshape(len(C_range), len(gamma_range))\n",
    "plt.figure(figsize=(8, 6))\n",
    "plt.subplots_adjust(left=.2, right=0.95, bottom=0.15, top=0.95)\n",
    "plt.imshow(scores, interpolation='nearest', cmap=plt.cm.hot, norm=MidpointNormalize(vmin=0.2, midpoint=0.795))\n",
    "plt.xlabel('gamma')\n",
    "plt.ylabel('C')\n",
    "plt.colorbar()\n",
    "plt.xticks(np.arange(len(gamma_range)), gamma_range, rotation=45)\n",
    "plt.yticks(np.arange(len(C_range)), C_range)\n",
    "plt.title('F1 score Student Intervention SVM-rbf BP5')"
   ]
  },
  {
   "cell_type": "markdown",
   "metadata": {},
   "source": [
    "### Tuned Model F1 Score \n",
    "\n",
    "_**The final F1 score of the model is 0.80,  as inidicated by GridSerachCV results and heat map above. The corresponding model parameters are 'kernel': 'rbf', 'C': 31622.776601683792, 'gamma': 9.9999999999999995e-08, visualable at the whitest point near the center of the heat map.**_"
   ]
  },
  {
   "cell_type": "markdown",
   "metadata": {},
   "source": [
    "#### Default Model"
   ]
  },
  {
   "cell_type": "code",
   "execution_count": 18,
   "metadata": {
    "collapsed": false
   },
   "outputs": [
    {
     "name": "stdout",
     "output_type": "stream",
     "text": [
      "grid.fit() elapsed time (seconds): 0.055999994278\n",
      "The best(only) parameters of the default model are {'kernel': 'rbf', 'C': 1, 'gamma': 'auto'}, F1 score: 0.80\n"
     ]
    }
   ],
   "source": [
    "#default model has parameters C = 1, gamma = auto, kernal - rbf\n",
    "param_grid_default = [{'C': [1], 'gamma': ['auto'], 'kernel': ['rbf']}]   \n",
    "cv = StratifiedShuffleSplit(y_all, n_iter=5, test_size=.16, random_state=42)\n",
    "start_time = time.time()\n",
    "np.random.seed(19591959)\n",
    "clf = svm.SVC() \n",
    "grid = GridSearchCV(clf, param_grid=param_grid_default, cv=cv,  scoring=F1_scorer)\n",
    "grid.fit(X_all, y_all)\n",
    "elapsed_time = time.time() - start_time\n",
    "print(\"grid.fit() elapsed time (seconds): %s\"  % (elapsed_time))\n",
    "print(\"The best(only) parameters of the default model are %s, F1 score: %0.2f\"\n",
    "% (grid.best_params_, grid.best_score_))  "
   ]
  },
  {
   "cell_type": "markdown",
   "metadata": {},
   "source": [
    "### Comparison of FInal Model to Default Model\n",
    "\n",
    "_**The performance of the tuned model, as measured by its F1 score of 0.80, performs as well or better that the default model, with its F1 score -  also 0.80.**_"
   ]
  },
  {
   "cell_type": "markdown",
   "metadata": {},
   "source": [
    "#### Validation Testing of the Tuned Model"
   ]
  },
  {
   "cell_type": "code",
   "execution_count": 19,
   "metadata": {
    "collapsed": false,
    "scrolled": true
   },
   "outputs": [
    {
     "name": "stdout",
     "output_type": "stream",
     "text": [
      "             precision    recall  f1-score   support\n",
      "\n",
      "         no       0.80      0.19      0.31        21\n",
      "        yes       0.69      0.97      0.81        39\n",
      "\n",
      "avg / total       0.73      0.70      0.63        60\n",
      "\n",
      "[[ 4 17]\n",
      " [ 1 38]]\n"
     ]
    }
   ],
   "source": [
    "from sklearn.metrics import confusion_matrix\n",
    "from sklearn.metrics import classification_report\n",
    "np.random.seed(19941994)\n",
    "clf = svm.SVC(kernel='rbf', C=31623, gamma = 1e-07)\n",
    "clf.fit(X_all, y_all)\n",
    "y_pred = clf.predict(X_val)\n",
    "target_names = ['no', 'yes']\n",
    "print(classification_report(y_val, y_pred, target_names=target_names))\n",
    "print(confusion_matrix(y_val, y_pred))"
   ]
  },
  {
   "cell_type": "markdown",
   "metadata": {},
   "source": [
    "#### Validation Testing of the Default Model"
   ]
  },
  {
   "cell_type": "code",
   "execution_count": 20,
   "metadata": {
    "collapsed": false
   },
   "outputs": [
    {
     "name": "stdout",
     "output_type": "stream",
     "text": [
      "             precision    recall  f1-score   support\n",
      "\n",
      "         no       0.67      0.19      0.30        21\n",
      "        yes       0.69      0.95      0.80        39\n",
      "\n",
      "avg / total       0.68      0.68      0.62        60\n",
      "\n",
      "[[ 4 17]\n",
      " [ 2 37]]\n"
     ]
    }
   ],
   "source": [
    "np.random.seed(19941994)\n",
    "clf = svm.SVC(kernel='rbf', C=1.0, gamma = 'auto')\n",
    "clf.fit(X_all, y_all)\n",
    "y_pred = clf.predict(X_val)\n",
    "target_names = ['no', 'yes']\n",
    "print(classification_report(y_val, y_pred, target_names=target_names))\n",
    "print(confusion_matrix(y_val, y_pred))"
   ]
  },
  {
   "cell_type": "markdown",
   "metadata": {},
   "source": [
    "#### Validation Testing Discussion\n",
    "_**Testing of the tuned and default models with a validation test set, and interpreting a classification report and confusion matrix, is beyond the scope of this project, but included here as an exercise that the author needs to more fully understand. One point that is clear is the default SVM model works as well, or nearly as well, as the tuned SVM model.**_ "
   ]
  }
 ],
 "metadata": {
  "kernelspec": {
   "display_name": "Python 2",
   "language": "python",
   "name": "python2"
  },
  "language_info": {
   "codemirror_mode": {
    "name": "ipython",
    "version": 2
   },
   "file_extension": ".py",
   "mimetype": "text/x-python",
   "name": "python",
   "nbconvert_exporter": "python",
   "pygments_lexer": "ipython2",
   "version": "2.7.11"
  }
 },
 "nbformat": 4,
 "nbformat_minor": 0
}
